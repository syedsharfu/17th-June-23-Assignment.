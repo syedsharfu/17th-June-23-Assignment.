{
 "cells": [
  {
   "cell_type": "raw",
   "id": "38419709-0054-43f4-acc6-14db427f35f3",
   "metadata": {},
   "source": [
    "1. What is the role of try and exception block?"
   ]
  },
  {
   "cell_type": "raw",
   "id": "d1b394d0-9505-4010-8e35-aa39e5e5786a",
   "metadata": {},
   "source": [
    "In Python, the try and except blocks are used for handling exceptions, which are events that can occur during the execution of a program that disrupts the normal flow of instructions. The primary role of the try and except blocks is to handle and gracefully manage these exceptions.\n",
    "Here's how the try and except blocks work:\n",
    "try Block:The code that might raise an exception is placed inside the try block.\n",
    "The purpose of the try block is to enclose the potentially error-prone code.\n",
    "If an exception occurs within the try block, the normal flow of the program is interrupted, and the control is transferred to the corresponding except block.\n",
    "except Block:The except block is where you define how to handle specific exceptions that may arise in the try block.\n",
    "If an exception occurs, the control of the program jumps to the first matching except block.\n",
    "The code within the except block is executed to handle the exception. It can include error-handling logic, logging, or any other necessary actions."
   ]
  },
  {
   "cell_type": "raw",
   "id": "6a3da62c-547f-486b-9181-b452529367e6",
   "metadata": {},
   "source": [
    "2. What is the syntax for a basic try-except block?"
   ]
  },
  {
   "cell_type": "raw",
   "id": "e970b970-c35c-4f17-956a-f1c56417c84f",
   "metadata": {},
   "source": [
    "try:\n",
    "    # Code that might raise an exception\n",
    "    # ...\n",
    "except ExceptionType as e:\n",
    "    # Code to handle the exception\n",
    "    # ..."
   ]
  },
  {
   "cell_type": "raw",
   "id": "b99ac867-4b17-4b79-83cf-516336a7c025",
   "metadata": {},
   "source": [
    "3. What happens if an exception occurs inside a try block and there is no matching except block?"
   ]
  },
  {
   "cell_type": "raw",
   "id": "093d1946-4758-4b13-89fa-0a0b81aa5cbe",
   "metadata": {},
   "source": [
    "If an exception occurs inside a try block, and there is no matching except block to handle that specific exception, the program will terminate, and an unhandled exception message will be displayed. This message typically includes information about the type of exception, a traceback showing where the exception occurred, and other relevant details."
   ]
  },
  {
   "cell_type": "raw",
   "id": "98d872c9-cbc8-48b3-b2e0-a11c943f98b9",
   "metadata": {},
   "source": [
    "4. What is the difference between using a bare except block and specifying a specific exception type?"
   ]
  },
  {
   "cell_type": "raw",
   "id": "2cfbc332-4807-440d-9c84-aa94f50d6549",
   "metadata": {},
   "source": [
    "Specific Exception Type: When you specify a particular exception type in the except block, it catches only that specific type of exception and any of its subclasses.\n",
    "This allows you to handle different exceptions differently based on the type of error that occurred.\n",
    "It is considered more precise and is generally recommended because it avoids catching and handling exceptions that you did not intend to handle.\n",
    "Bare except Block: A bare except block catches any exception, regardless of its type. It is more general and can be used to catch unexpected or unknown exceptions.\n",
    "While it provides a catch-all mechanism, it can make debugging more challenging, as it may catch exceptions that were not anticipated.\n",
    "Using a bare except block is generally discouraged in favor of catching specific exception types."
   ]
  },
  {
   "cell_type": "raw",
   "id": "8cda1267-b301-4324-acc3-07e89dc0c421",
   "metadata": {},
   "source": [
    "5. Can you have nested try-except blocks in Python? If yes, then give an example."
   ]
  },
  {
   "cell_type": "raw",
   "id": "657211f8-5c5e-4057-a365-97e09322e986",
   "metadata": {},
   "source": [
    "Yes, you can have nested try and except blocks in Python. This allows you to handle exceptions at different levels of granularity, providing more specific handling for certain operations while providing a more general handling mechanism for others."
   ]
  },
  {
   "cell_type": "code",
   "execution_count": 1,
   "id": "7552b323-856a-499f-95dc-e5a497723604",
   "metadata": {},
   "outputs": [
    {
     "name": "stdin",
     "output_type": "stream",
     "text": [
      "Enter the numerator:  5\n",
      "Enter the denominator:  3\n"
     ]
    },
    {
     "name": "stdout",
     "output_type": "stream",
     "text": [
      "The result of the division is: 1.6666666666666667\n"
     ]
    }
   ],
   "source": [
    "try:\n",
    "    numerator = int(input(\"Enter the numerator: \"))\n",
    "    denominator = int(input(\"Enter the denominator: \"))\n",
    "    try:\n",
    "        result = numerator / denominator \n",
    "    except ZeroDivisionError:\n",
    "        print(\"Error: Division by zero is not allowed.\")\n",
    "    else:\n",
    "        print(f\"The result of the division is: {result}\")\n",
    "\n",
    "except ValueError:\n",
    "    print(\"Error: Please enter valid integers for numerator and denominator.\")\n",
    "except Exception as e:\n",
    "    print(f\"An unexpected error occurred: {e}\")\n"
   ]
  },
  {
   "cell_type": "raw",
   "id": "2eeebd58-4e60-4945-bf1e-aeb6286458be",
   "metadata": {},
   "source": [
    "6. Write the reason due to which following errors are raised:\n",
    "a. EOFError\n",
    "b. FloatingPointError\n",
    "c. IndexError\n",
    "d. MemoryError\n",
    "e. OverflowError\n",
    "f. TabError\n",
    "g. ValueError"
   ]
  },
  {
   "cell_type": "raw",
   "id": "4402ab8c-bd13-4b1d-9557-ea4ac2adfe6e",
   "metadata": {},
   "source": [
    "6. Can we use multiple exception blocks, if yes then give an example."
   ]
  },
  {
   "cell_type": "raw",
   "id": "3286120b-14d6-45df-8a2b-19ecce0d6136",
   "metadata": {},
   "source": [
    "Yes, you can use multiple except blocks to handle different types of exceptions in Python. Each except block can be associated with a specific exception type. Here's an example:"
   ]
  },
  {
   "cell_type": "code",
   "execution_count": 8,
   "id": "e586d7ca-3e91-494f-9381-5725848f5eaf",
   "metadata": {},
   "outputs": [
    {
     "name": "stdin",
     "output_type": "stream",
     "text": [
      "Enter the numerator:  5\n",
      "Enter the denominator:  6\n"
     ]
    },
    {
     "name": "stdout",
     "output_type": "stream",
     "text": [
      "The result of the division is: 0.8333333333333334\n"
     ]
    }
   ],
   "source": [
    "try:\n",
    "    num1 = int(input(\"Enter the numerator: \"))\n",
    "    num2 = int(input(\"Enter the denominator: \"))\n",
    "    result = num1 / num2\n",
    "    print(f\"The result of the division is: {result}\")\n",
    "\n",
    "except ZeroDivisionError:\n",
    "    print(\"Error: Division by zero is not allowed.\")\n",
    "\n",
    "except ValueError:\n",
    "    print(\"Error: Please enter valid numeric values.\")\n",
    "\n",
    "except Exception as e:\n",
    "    print(f\"An unexpected error occurred: {e}\")\n"
   ]
  },
  {
   "cell_type": "raw",
   "id": "fd9b6c2d-2887-446a-85ab-6d0b57737629",
   "metadata": {},
   "source": [
    "a. EOFError (End of File Error): Raised when the input() function hits an end-of-file condition (EOF) without receiving any data.\n",
    "b. FloatingPointError: Raised when a floating-point operation fails. Common causes include division by zero or an operation resulting in an undefined or infinite value.\n",
    "c. IndexError: Raised when a sequence subscript (such as a list or tuple index) is out of range, either too high or too low.\n",
    "d. MemoryError: Raised when an operation runs out of memory but still needs more to proceed.\n",
    "e. OverflowError: Raised when the result of an arithmetic operation is too large to be represented within the limits of the data type.\n",
    "f. TabError: Raised when indentation is inconsistent (mixing tabs and spaces) in the code.\n",
    "g. ValueError: Raised when a function receives an argument of the correct data type but with an invalid value, or when a built-in operation or function is applied to an object of an inappropriate type.\n",
    "These errors help in identifying and addressing specific issues in the code during execution. Understanding the reasons behind each error type is crucial for effective debugging and error handling."
   ]
  },
  {
   "cell_type": "raw",
   "id": "807913da-96fd-406d-85a2-d55dfce5721e",
   "metadata": {},
   "source": [
    "8. Write code for the following given scenario and add try-exception block to it.\n",
    "a. Program to divide two numbers\n",
    "b. Program to convert a string to an integer\n",
    "c. Program to access an element in a list\n",
    "d. Program to handle a specific exception\n",
    "e. Program to handle any exception"
   ]
  },
  {
   "cell_type": "code",
   "execution_count": 2,
   "id": "555729b5-b469-429f-8421-a5d5ab45d65d",
   "metadata": {},
   "outputs": [
    {
     "name": "stdin",
     "output_type": "stream",
     "text": [
      "Enter the numerator:  5\n",
      "Enter the denominator:  6\n"
     ]
    },
    {
     "name": "stdout",
     "output_type": "stream",
     "text": [
      "The result of the division is: 0.8333333333333334\n"
     ]
    }
   ],
   "source": [
    "# a. Program to divide two numbers:\n",
    "try:\n",
    "    numerator = float(input(\"Enter the numerator: \"))\n",
    "    denominator = float(input(\"Enter the denominator: \"))\n",
    "    result = numerator / denominator\n",
    "    print(f\"The result of the division is: {result}\")\n",
    "except ZeroDivisionError:\n",
    "    print(\"Error: Division by zero is not allowed.\")\n",
    "except ValueError:\n",
    "    print(\"Error: Please enter valid numeric values.\")\n",
    "except Exception as e:\n",
    "    print(f\"An unexpected error occurred: {e}\")\n"
   ]
  },
  {
   "cell_type": "code",
   "execution_count": 3,
   "id": "f1727afc-640c-49d3-b991-e3100c897db7",
   "metadata": {},
   "outputs": [
    {
     "name": "stdin",
     "output_type": "stream",
     "text": [
      "Enter an integer:  5\n"
     ]
    },
    {
     "name": "stdout",
     "output_type": "stream",
     "text": [
      "The entered integer is: 5\n"
     ]
    }
   ],
   "source": [
    "#b. Program to convert a string to an integer:\n",
    "try:\n",
    "    input_str = input(\"Enter an integer: \")\n",
    "    num = int(input_str)\n",
    "    print(f\"The entered integer is: {num}\")\n",
    "except ValueError:\n",
    "    print(\"Error: Please enter a valid integer.\")\n",
    "except Exception as e:\n",
    "    print(f\"An unexpected error occurred: {e}\")"
   ]
  },
  {
   "cell_type": "code",
   "execution_count": 5,
   "id": "0e42febd-05fa-48b3-a2e2-6267ced5e477",
   "metadata": {},
   "outputs": [
    {
     "name": "stdin",
     "output_type": "stream",
     "text": [
      "Enter the index to access:  2\n"
     ]
    },
    {
     "name": "stdout",
     "output_type": "stream",
     "text": [
      "The value at index 2 is: 3\n"
     ]
    }
   ],
   "source": [
    "#c. Program to access an element in a list:\n",
    "try:\n",
    "    my_list = [1, 2, 3, 4, 5]\n",
    "    index = int(input(\"Enter the index to access: \"))\n",
    "    value = my_list[index]\n",
    "    print(f\"The value at index {index} is: {value}\")\n",
    "except IndexError:\n",
    "    print(\"Error: Index out of range.\")\n",
    "except ValueError:\n",
    "    print(\"Error: Please enter a valid integer for the index.\")\n",
    "except Exception as e:\n",
    "    print(f\"An unexpected error occurred: {e}\")"
   ]
  },
  {
   "cell_type": "code",
   "execution_count": 6,
   "id": "b3084f54-eb3e-44f2-948b-f089cfdc654a",
   "metadata": {},
   "outputs": [
    {
     "name": "stdin",
     "output_type": "stream",
     "text": [
      "Enter your age:  25\n"
     ]
    },
    {
     "name": "stdout",
     "output_type": "stream",
     "text": [
      "Your age is: 25\n"
     ]
    }
   ],
   "source": [
    "#d. Program to handle a specific exception:\n",
    "try:\n",
    "    age = int(input(\"Enter your age: \"))\n",
    "    if age < 0:\n",
    "        raise ValueError(\"Age cannot be negative.\")\n",
    "    print(f\"Your age is: {age}\")\n",
    "except ValueError as ve:\n",
    "    print(f\"Error: {ve}\")\n",
    "except Exception as e:\n",
    "    print(f\"An unexpected error occurred: {e}\")"
   ]
  },
  {
   "cell_type": "code",
   "execution_count": 7,
   "id": "22b3a59d-67fb-42fd-9392-30042fcf0b62",
   "metadata": {},
   "outputs": [
    {
     "name": "stdin",
     "output_type": "stream",
     "text": [
      "Enter a number:  7\n"
     ]
    },
    {
     "name": "stdout",
     "output_type": "stream",
     "text": [
      "The result is: 1.4285714285714286\n"
     ]
    }
   ],
   "source": [
    "# e. Program to handle any exception:\n",
    "try:\n",
    "    x = int(input(\"Enter a number: \"))\n",
    "    result = 10 / x\n",
    "    print(f\"The result is: {result}\")\n",
    "except Exception as e:\n",
    "    print(f\"An error occurred: {e}\")\n"
   ]
  },
  {
   "cell_type": "code",
   "execution_count": null,
   "id": "ecea4474-f58b-4dc3-ae3e-1ed52218d17b",
   "metadata": {},
   "outputs": [],
   "source": []
  }
 ],
 "metadata": {
  "kernelspec": {
   "display_name": "Python 3 (ipykernel)",
   "language": "python",
   "name": "python3"
  },
  "language_info": {
   "codemirror_mode": {
    "name": "ipython",
    "version": 3
   },
   "file_extension": ".py",
   "mimetype": "text/x-python",
   "name": "python",
   "nbconvert_exporter": "python",
   "pygments_lexer": "ipython3",
   "version": "3.10.6"
  }
 },
 "nbformat": 4,
 "nbformat_minor": 5
}
